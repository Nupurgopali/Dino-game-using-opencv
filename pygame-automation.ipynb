{
 "cells": [
  {
   "cell_type": "code",
   "execution_count": 1,
   "metadata": {},
   "outputs": [],
   "source": [
    "import pandas as pd\n",
    "import numpy as np\n",
    "import cv2\n"
   ]
  },
  {
   "cell_type": "code",
   "execution_count": 2,
   "metadata": {},
   "outputs": [],
   "source": [
    "import pyautogui"
   ]
  },
  {
   "cell_type": "code",
   "execution_count": 3,
   "metadata": {},
   "outputs": [],
   "source": [
    "def rescale_frame(frame, percent=75):\n",
    "    width = int(frame.shape[1] * percent/ 100)\n",
    "    height = int(frame.shape[0] * percent/ 100)\n",
    "    dim = (width, height)\n",
    "    return cv2.resize(frame, dim, interpolation =cv2.INTER_AREA)"
   ]
  },
  {
   "cell_type": "code",
   "execution_count": 4,
   "metadata": {},
   "outputs": [],
   "source": [
    "org = (50, 50) \n",
    "  \n",
    "# fontScale \n",
    "fontScale = 1\n",
    "   \n",
    "# Blue color in BGR \n",
    "color = (255, 0, 0) \n",
    "  \n",
    "# Line thickness of 2 px \n",
    "thickness = 2\n",
    "font = cv2.FONT_HERSHEY_SIMPLEX "
   ]
  },
  {
   "cell_type": "code",
   "execution_count": null,
   "metadata": {},
   "outputs": [],
   "source": [
    "import cv2\n",
    "import pyautogui\n",
    "import numpy as np\n",
    "\n",
    "cap = cv2.VideoCapture(0)\n",
    "lower_blue = np.array([110,50,50])\n",
    "upper_blue = np.array([130,255,255])\n",
    "centroid_x = 0\n",
    "centroid_y = 0\n",
    "\n",
    "\n",
    "while(cap.isOpened()):\n",
    "\n",
    "    ret, img = cap.read()\n",
    "    img = rescale_frame(img, 125)\n",
    "    img = cv2.flip(img, 1)\n",
    "\n",
    "    \n",
    "    \n",
    "    #img = cv2.GaussianBlur(img, (15, 15), 0)\n",
    "    hsv = cv2.cvtColor(img, cv2.COLOR_BGR2HSV)\n",
    "\n",
    "                      \n",
    "\n",
    "    frame_threshed = cv2.inRange(hsv, lower_blue, upper_blue)\n",
    "\n",
    "    contours,hierarchy = cv2.findContours(frame_threshed,cv2.RETR_TREE, cv2.CHAIN_APPROX_SIMPLE)\n",
    "    max_area = 0\n",
    "    last_x = centroid_x\n",
    "    last_y = centroid_y\n",
    "\n",
    "    if contours:\n",
    "        for i in contours:\n",
    "            area = cv2.contourArea(i)\n",
    "            if area > max_area:\n",
    "                max_area = area\n",
    "                cnt = i\n",
    "\n",
    "        x,y,w,h = cv2.boundingRect(cnt)\n",
    "        cv2.rectangle(img,(x,y),(x+w,y+h),(0,255,0),2)\n",
    "        centroid_x = (x + x+w)/2\n",
    "        centroid_y = (y + y+h)/2\n",
    "\n",
    "        cv2.circle(img, (int(centroid_x), int(centroid_y)), 2, (0,0,255), 2)\n",
    "        cv2.line(img,(300,0),(300,600),(0,255,255),5)\n",
    "        cv2.line(img,(600,0),(600,600),(0,255,255),5)\n",
    "        #cv2.line(img,(100,0),(100,600),(0,255,255),5)\n",
    "        #cv2.line(img,(300,300),(600, 300),(0,255,255),5)\n",
    "        \n",
    "        \n",
    "        if centroid_x <= 300 :\n",
    "            # up\n",
    "            if centroid_y <= 600:\n",
    "                pyautogui.keyDown('up')\n",
    "                pyautogui.keyUp('up')\n",
    "                img = cv2.putText(img, 'Jump', org, font,fontScale, color, thickness, cv2.LINE_AA)\n",
    "\n",
    "                \n",
    "        if centroid_x >= 300 and centroid_x <= 600:\n",
    "            \n",
    "            if centroid_y >= 0 and centroid_y <=600:\n",
    "                \n",
    "                #pyautogui.keyDown('down')\n",
    "                #pyautogui.keyUp('down')\n",
    "                #pyautogui.press('down')\n",
    "                img = cv2.putText(img, 'Null', org, font,fontScale, color, thickness, cv2.LINE_AA)\n",
    "        else:\n",
    "                pyautogui.keyDown('down')\n",
    "                pyautogui.keyUp('down')\n",
    "                img = cv2.putText(img, 'Down', org, font,fontScale, color, thickness, cv2.LINE_AA)\n",
    "\n",
    "         \n",
    "        \n",
    "\n",
    "        \n",
    "\n",
    "        #cv2.imshow('Threshold', frame_threshed)\n",
    "        cv2.imshow('Original', img)\n",
    "\n",
    "\n",
    "        \n",
    "\n",
    "    if cv2.waitKey(1) & 0xFF == ord('q'):\n",
    "            break\n",
    "cap.release()\n",
    "cv2.destroyAllWindows()"
   ]
  },
  {
   "cell_type": "code",
   "execution_count": null,
   "metadata": {},
   "outputs": [],
   "source": []
  }
 ],
 "metadata": {
  "kernelspec": {
   "display_name": "Python 3",
   "language": "python",
   "name": "python3"
  },
  "language_info": {
   "codemirror_mode": {
    "name": "ipython",
    "version": 3
   },
   "file_extension": ".py",
   "mimetype": "text/x-python",
   "name": "python",
   "nbconvert_exporter": "python",
   "pygments_lexer": "ipython3",
   "version": "3.8.3"
  }
 },
 "nbformat": 4,
 "nbformat_minor": 4
}
